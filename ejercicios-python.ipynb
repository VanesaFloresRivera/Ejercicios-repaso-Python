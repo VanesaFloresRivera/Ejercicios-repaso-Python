{
 "cells": [
  {
   "cell_type": "markdown",
   "metadata": {},
   "source": [
    "#### Ejercicio 1\n",
    "\n",
    "Devuelve el número de vocales en una cadena dada. Consideraremos `a, e, i, o, u` como vocales. \n",
    "\n",
    "Por ejemplo: \n",
    "\n",
    "```python\n",
    "print(get_count(\"Hola Buenos Dias\")) # devuelve 7 \n",
    "print(get_count(\"Python Mola\")) # devuelve 3\n",
    "print(get_count(\"REPASANDO EJERCICIOS\")) # devuelve 9\n",
    "```"
   ]
  },
  {
   "cell_type": "code",
   "execution_count": 60,
   "metadata": {},
   "outputs": [
    {
     "data": {
      "text/plain": [
       "14"
      ]
     },
     "execution_count": 60,
     "metadata": {},
     "output_type": "execute_result"
    }
   ],
   "source": [
    "frase = \"Hola Buenos Dias\"\n",
    "\n",
    "def numero_vocales (frase):\n",
    "    contador_vocales = 0\n",
    "    for letra in frase:\n",
    "        if letra.lower() == \"a\" or letra.lower() == \"e\" or letra.lower() == \"i\" or letra.lower() == \"o\" or letra.lower() == \"u\":\n",
    "            contador_vocales += 1\n",
    "    return contador_vocales\n",
    "\n",
    "numero_vocales(\"EL CONOCIMIENTO ESTA RESURGIENDO\")"
   ]
  },
  {
   "cell_type": "markdown",
   "metadata": {},
   "source": [
    "#### Ejercicio 2\n",
    "\n",
    "Eleva al cuadrado cada dígito de un número y unelos. Por ejemplo, si pasas el número 9119 a la función, obtendras 811181, porque \\(9^2\\) ￼ es 81 y ￼\\(1^2\\) es 1. (81-1-1-81). Otro ejemplo, un número de 765 debería devolver 493625 porque \\(7^2\\) ￼ es 49,  \\(6^2\\) ￼ es 36 y ￼\\(5^2\\)  es 25. (49-36-25)\n",
    "\n",
    "```python\n",
    "print(square_digits(123)) # devuelve 149\n",
    "print(square_digits(12345)) # devuelve 1491625\n",
    "print(square_digits(34)) # devuelve 916\n",
    "```\n"
   ]
  },
  {
   "cell_type": "code",
   "execution_count": 56,
   "metadata": {},
   "outputs": [
    {
     "name": "stdout",
     "output_type": "stream",
     "text": [
      "CPU times: total: 0 ns\n",
      "Wall time: 0 ns\n"
     ]
    },
    {
     "data": {
      "text/plain": [
       "164"
      ]
     },
     "execution_count": 56,
     "metadata": {},
     "output_type": "execute_result"
    }
   ],
   "source": [
    "%%time\n",
    "\n",
    "numero_int = 123\n",
    "\n",
    "def cadena_cuadrados (numero_int):\n",
    "    numero_str = str(numero_int)\n",
    "    lista_num_cuadrados = []\n",
    "    for numero in numero_str:\n",
    "        lista_num_cuadrados.append(str(int(numero)**2))\n",
    "    # print(lista_num_cuadrados)\n",
    "    return int(\"\".join(lista_num_cuadrados))\n",
    "\n",
    "cadena_cuadrados(18)"
   ]
  },
  {
   "cell_type": "code",
   "execution_count": 59,
   "metadata": {},
   "outputs": [
    {
     "name": "stdout",
     "output_type": "stream",
     "text": [
      "CPU times: total: 0 ns\n",
      "Wall time: 0 ns\n"
     ]
    },
    {
     "data": {
      "text/plain": [
       "164"
      ]
     },
     "execution_count": 59,
     "metadata": {},
     "output_type": "execute_result"
    }
   ],
   "source": [
    "%%time\n",
    "## Con List comprehensions\n",
    "numero_int = 123\n",
    "\n",
    "def cadena_cuadrados (numero_int):\n",
    "    numero_str = str(numero_int)\n",
    "    lista_num_cuadrados = [str(int(numero)**2) for numero in numero_str]\n",
    "    #print(lista_num_cuadrados)\n",
    "    return int(\"\".join(lista_num_cuadrados))\n",
    "\n",
    "cadena_cuadrados(18)"
   ]
  },
  {
   "cell_type": "markdown",
   "metadata": {},
   "source": [
    "#### Ejercicio 3\n",
    "\n",
    "Escribe una función que reciba una cadena de texto compuesta por una o más palabras, y devuelva la misma cadena, pero con todas las palabras de cinco o más letras invertidas. \n",
    "\n",
    "```python\n",
    "print(spin_words(\"Hey fellow warriors\")) # Hey wollef sroirraw\n",
    "print(spin_words(\"This is a test\")) # This is a test\n",
    "print(spin_words(\"This is another test\")) # This is rehtona test\n",
    "```"
   ]
  },
  {
   "cell_type": "code",
   "execution_count": 98,
   "metadata": {},
   "outputs": [],
   "source": [
    "cadena_texto = \"This is a test\"\n",
    "\n",
    "def frase_invertida (cadena_texto):\n",
    "    lista_cadena_texto = cadena_texto.split()\n",
    "    # print(lista_cadena_texto)\n",
    "    lista_texto_final_invertida =[]\n",
    "    for palabra in lista_cadena_texto:\n",
    "        if len(palabra) >5:\n",
    "            # print(palabra)\n",
    "            lista_palabra = list(palabra)\n",
    "            # print(lista_palabra)\n",
    "            lista_palabra.reverse()\n",
    "            # print(lista_palabra)\n",
    "            palabra_invertida=\"\".join(lista_palabra)\n",
    "            # print(palabra_invertida)\n",
    "            # print(lista_texto_final)\n",
    "            lista_texto_final_invertida.append(palabra_invertida)\n",
    "            # print(lista_texto_final_invertida)\n",
    "        else:\n",
    "            lista_texto_final_invertida.append(palabra)\n",
    "    return \" \".join(lista_texto_final_invertida)"
   ]
  },
  {
   "cell_type": "code",
   "execution_count": 96,
   "metadata": {},
   "outputs": [
    {
     "data": {
      "text/plain": [
       "'sáziuQ es muy largo pero no he odibas olrecah de otra forma'"
      ]
     },
     "execution_count": 96,
     "metadata": {},
     "output_type": "execute_result"
    }
   ],
   "source": [
    "frase_invertida(\"Quizás es muy largo pero no he sabido hacerlo de otra forma\")"
   ]
  },
  {
   "cell_type": "markdown",
   "metadata": {},
   "source": [
    "#### Ejercicio 4\n",
    "\n",
    "Probablemente conozcas el sistema de “me gusta” de Facebook y otras plataformas. Las personas pueden dar “me gusta” a publicaciones, imágenes u otros elementos. Tienes que crear el texto que se debe mostrar junto a dicho elemento. Crea una función que reciba una lista con los nombres de las personas que dieron “me gusta” a un elemento. La función debe devolver el texto mostrado según los ejemplos:\n",
    "\n",
    "```python\n",
    "print(likes([\"Peter\"])) # devuelve \"Peter likes this\"\n",
    "print(likes([\"Jacob\", \"Alex\"] )) # devuelve \"Jacob and Alex like this\"\n",
    "print(likes([\"Max\", \"John\", \"Mark\"])) # devuelve \"Max, John and Mark like this\"\n",
    "print(likes([\"Max\", \"John\", \"Mark\", \"Max\"])) # devuelve \"Max, John and 2 others like this\"\n",
    "```"
   ]
  },
  {
   "cell_type": "code",
   "execution_count": 121,
   "metadata": {},
   "outputs": [
    {
     "name": "stdout",
     "output_type": "stream",
     "text": [
      "Peter, Juan and 2 others like this\n"
     ]
    }
   ],
   "source": [
    "lista_nombres_me_gusta = [\"Peter\"]\n",
    "\n",
    "def frase_megusta (lista_nombres_me_gusta):\n",
    "    if len(lista_nombres_me_gusta) > 3:\n",
    "        print(f'{lista_nombres_me_gusta[0]}, {lista_nombres_me_gusta[1]} and {len(lista_nombres_me_gusta)-2} others like this')\n",
    "    elif len(lista_nombres_me_gusta) == 3:\n",
    "        print(f'{lista_nombres_me_gusta[0]}, {lista_nombres_me_gusta[1]} and {lista_nombres_me_gusta[2]} like this')\n",
    "    elif len(lista_nombres_me_gusta) == 2:\n",
    "        print(f'{lista_nombres_me_gusta[0]} and {lista_nombres_me_gusta[1]} like this')\n",
    "    else:\n",
    "        print(f'{lista_nombres_me_gusta[0]} like this')\n",
    "\n",
    "frase_megusta([\"Peter\", \"Juan\", \"Francisco\", \"Manuel\"])"
   ]
  },
  {
   "cell_type": "markdown",
   "metadata": {},
   "source": [
    "#### Ejercicio 5\n",
    "\n",
    "Crea una función que tome una lista de enteros no negativos y cadenas de texto, y devuelva una nueva lista con las cadenas filtradas (es decir, eliminadas).\n",
    "\n",
    "```python\n",
    "print(filter_list([1, 2, 'a', 'b'])) # devuelve [1, 2]\n",
    "print(filter_list([1, 'a', 'b', 0, 15])) # devuelve [1, 0, 15]\n",
    "print(filter_list([1, 2, 'aasf', '1', '123', 123])) # devuelve [1, 2, 123]\n",
    "```"
   ]
  },
  {
   "cell_type": "code",
   "execution_count": 37,
   "metadata": {},
   "outputs": [
    {
     "data": {
      "text/plain": [
       "[1, 2, 123]"
      ]
     },
     "execution_count": 37,
     "metadata": {},
     "output_type": "execute_result"
    }
   ],
   "source": [
    "lista_enteros_cadena = [1, 2, 'a', 'b']\n",
    "lista_enteros = []\n",
    "\n",
    "def lista_enteros_no_negativos(lista_enteros_cadena):\n",
    "    for digito in lista_enteros_cadena:\n",
    "        #print(digito)\n",
    "        #print(type(digito))\n",
    "        if isinstance(digito, str) == False:\n",
    "            lista_enteros.append(digito)\n",
    "    return lista_enteros\n",
    "\n",
    "lista_enteros_no_negativos([1, 2, 'aasf', '1', '123', 123])        \n",
    "   \n"
   ]
  },
  {
   "cell_type": "markdown",
   "metadata": {},
   "source": [
    "#### Ejercicio 6\n",
    "\n",
    "Mueve la primera letra de cada palabra al final de la misma, luego agrega “ay” al final de la palabra. Deja los signos de puntuación sin cambios.\n",
    "\n",
    "```python\n",
    "print(pig_it('Pig latin is cool')) # devuelve \"igPay atinlay siay oolcay\"\n",
    "print(pig_it('This is my string')) # devuelve \"hisTay siay ymay tringsay\"\n",
    "```"
   ]
  },
  {
   "cell_type": "code",
   "execution_count": 133,
   "metadata": {},
   "outputs": [
    {
     "data": {
      "text/plain": [
       "'aaaayay iMay abezacay chaeay umohay'"
      ]
     },
     "execution_count": 133,
     "metadata": {},
     "output_type": "execute_result"
    }
   ],
   "source": [
    "frase_inicial = 'Pig latin is cool'\n",
    "\n",
    "def letras_cambiadas (frase_inicial):\n",
    "    lista_inicial = frase_inicial.split()\n",
    "    lista_final = []\n",
    "    #print(lista_inicial)\n",
    "    for palabra in lista_inicial:\n",
    "        #print(palabra[1:len(palabra)])\n",
    "        palabra_nueva = palabra[1:len(palabra)]+palabra[0]+'ay'\n",
    "        #print(palabra_nueva)\n",
    "        lista_final.append(palabra_nueva)\n",
    "    #print(lista_final)\n",
    "    return \" \".join(lista_final)\n",
    "\n",
    "letras_cambiadas('yaaaa Mi cabeza echa humo')"
   ]
  },
  {
   "cell_type": "markdown",
   "metadata": {},
   "source": [
    "#### Ejercicio 7\n",
    "\n",
    "A Pete le gusta hornear pasteles. Tiene algunas recetas e ingredientes. Desafortunadamente, no es bueno con las matemáticas. ¿Puedes ayudarlo a averiguar cuántos pasteles puede hornear considerando sus recetas? Escribe una función que reciba la receta  y los ingredientes disponibles y devuelva el número máximo de pasteles que Pete puede hornear. Para simplificar, no hay unidades para las cantidades (por ejemplo, 1 libra de harina o 200 gramos de azúcar son simplemente 1 o 200). Los ingredientes que no están presentes en los objetos se pueden considerar como 0.\n",
    "\n",
    "```python\n",
    "recipe = {\"flour\": 500, \"sugar\": 200, \"eggs\": 1}\n",
    "available = {\"flour\": 1200, \"sugar\": 1200, \"eggs\": 5, \"milk\": 200}\n",
    "print(cakes(recipe, available)) # devuelve 2 bizcochos\n",
    "\n",
    "recipe = {\"apples\": 3, \"flour\": 300, \"sugar\": 150, \"milk\": 100, \"oil\": 100}\n",
    "available = {\"sugar\": 500, \"flour\": 2000, \"milk\": 2000}\n",
    "print(cakes(recipe, available)) # devuelve 0 bizcochos\n",
    "\n",
    "```"
   ]
  },
  {
   "cell_type": "code",
   "execution_count": 200,
   "metadata": {},
   "outputs": [
    {
     "name": "stdout",
     "output_type": "stream",
     "text": [
      "2 bizcochos\n"
     ]
    }
   ],
   "source": [
    "recipe = {\"flour\": 500, \"sugar\": 200, \"eggs\": 1}\n",
    "available = {\"flour\": 1200, \"sugar\": 1200, \"eggs\": 5, \"milk\": 200}\n",
    "unidades = []\n",
    "\n",
    "def contador_bizcochos (recipe, available):\n",
    "    for k,v in recipe.items():\n",
    "        #print(k)\n",
    "        #print(available.setdefault(k, 0))\n",
    "        #print(recipe[k])\n",
    "        unidades.append(int(available.setdefault(k, 0)/recipe[k])) \n",
    "    print(f'{min(unidades)} bizcochos')\n",
    "        \n",
    "\n",
    "contador_bizcochos({\"flour\": 500, \"sugar\": 200, \"eggs\": 1},{\"flour\": 1200, \"sugar\": 1200, \"eggs\": 5, \"milk\": 200})"
   ]
  },
  {
   "cell_type": "markdown",
   "metadata": {},
   "source": [
    "#### Ejercicio 8\n",
    "\n",
    "Debes validar si una cadena de entrada del usuario es alfanumérica. La cadena debe cumplir con las siguientes condiciones para ser alfanumérica:\n",
    "\n",
    "•\tContener al menos un carácter (”” no es válido).\n",
    "\n",
    "•\tLos caracteres permitidos son letras latinas en mayúsculas/minúsculas y dígitos del 0 al 9.\n",
    "\n",
    "•\tNo debe contener espacios en blanco ni guiones bajos (_).\n",
    "\n",
    "```python\n",
    "print(alphanumeric(\"hello world_\")) # devuelve False\n",
    "print(alphanumeric(\"PassW0rd\")) # devuelve True\n",
    "print(alphanumeric(\"L0La\")) # devuelve True\n",
    "```"
   ]
  },
  {
   "cell_type": "code",
   "execution_count": 220,
   "metadata": {},
   "outputs": [
    {
     "data": {
      "text/plain": [
       "False"
      ]
     },
     "execution_count": 220,
     "metadata": {},
     "output_type": "execute_result"
    }
   ],
   "source": [
    "cadena_alfanumerica = \"L0La\"\n",
    "#print(len(cadena_alfanumerica))\n",
    "\n",
    "def comprobacion_alfanumerica (cadena_alfanumerica):\n",
    "    return cadena_alfanumerica.isalnum() and len(cadena_alfanumerica)>0\n",
    "\n",
    "comprobacion_alfanumerica(\"hello world_\")"
   ]
  }
 ],
 "metadata": {
  "kernelspec": {
   "display_name": "Python 3",
   "language": "python",
   "name": "python3"
  },
  "language_info": {
   "codemirror_mode": {
    "name": "ipython",
    "version": 3
   },
   "file_extension": ".py",
   "mimetype": "text/x-python",
   "name": "python",
   "nbconvert_exporter": "python",
   "pygments_lexer": "ipython3",
   "version": "3.12.5"
  }
 },
 "nbformat": 4,
 "nbformat_minor": 2
}
