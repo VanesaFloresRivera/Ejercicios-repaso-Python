{
 "cells": [
  {
   "cell_type": "markdown",
   "metadata": {},
   "source": [
    "# Ejercicios repaso de Python\n",
    "\n",
    "## 1. `lista_digitos()`\n",
    "Dado un número entero positivo, convierte el número en una lista donde cada elemento es un dígito del número original, pero en orden inverso. \n",
    "\n",
    "**Input:**\n",
    "- Un número entero, por ejemplo: `348597`\n",
    "\n",
    "**Output esperado:**\n",
    "- Una lista de enteros con los dígitos en orden inverso, por ejemplo: `[7, 9, 5, 8, 4, 3]`\n",
    "\n"
   ]
  },
  {
   "cell_type": "code",
   "execution_count": 7,
   "metadata": {},
   "outputs": [],
   "source": [
    "numero = 348597"
   ]
  },
  {
   "cell_type": "code",
   "execution_count": 25,
   "metadata": {},
   "outputs": [],
   "source": [
    "def lista_digitos(numero):\n",
    "  texto = str(numero)\n",
    "  lista = list(texto)\n",
    "  lista.reverse()\n",
    "  return lista"
   ]
  },
  {
   "cell_type": "code",
   "execution_count": 26,
   "metadata": {},
   "outputs": [
    {
     "data": {
      "text/plain": [
       "['7', '9', '5', '8', '4', '3']"
      ]
     },
     "execution_count": 26,
     "metadata": {},
     "output_type": "execute_result"
    }
   ],
   "source": [
    "lista_digitos(numero)"
   ]
  },
  {
   "cell_type": "markdown",
   "metadata": {},
   "source": [
    "## 2. `formatear_nombre()`\n",
    "Dada una lista de nombres escritos en minúsculas o con letras mayúsculas y minúsculas mezcladas, devuelve una nueva lista donde cada nombre está capitalizado correctamente (solo la primera letra en mayúscula).\n",
    "\n",
    "**Input:**\n",
    "- Una lista de strings, por ejemplo: `[\"ana\", \"jUAn\", \"LuIs\"]`\n",
    "\n",
    "**Output esperado:**\n",
    "- Una lista de strings capitalizados, por ejemplo: `[\"Ana\", \"Juan\", \"Luis\"]`"
   ]
  },
  {
   "cell_type": "code",
   "execution_count": 7,
   "metadata": {},
   "outputs": [
    {
     "data": {
      "text/plain": [
       "['Ana', 'Juan', 'Luis']"
      ]
     },
     "execution_count": 7,
     "metadata": {},
     "output_type": "execute_result"
    }
   ],
   "source": [
    "lista_imput =[\"ana\", \"jUAn\", \"LuIs\"]\n",
    "\n",
    "def formatear_nombre (lista_nombres):\n",
    "    lista_vacia = []\n",
    "    for i in lista_imput:\n",
    "        nombre_formateado = i.capitalize()\n",
    "        lista_vacia.append(nombre_formateado)\n",
    "    return lista_vacia \n",
    "\n",
    "formatear_nombre(lista_imput)\n"
   ]
  },
  {
   "cell_type": "markdown",
   "metadata": {},
   "source": [
    "## 3. `match_result()`\n",
    "Dada una lista de tuplas con dos números cada una, donde cada número representa el puntaje de dos equipos en un partido, determina el resultado del partido si el equipo es el que juega en casa. \n",
    "\n",
    "**Input:**\n",
    "- Una lista de tuplas de enteros, por ejemplo: `[(3, 1), (2, 2), (1, 4)]`\n",
    "\n",
    "**Output esperado:**\n",
    "- Una lista de strings con el resultado para cada partida, por ejemplo: `[\"ganador\", \"empate\", \"perdedor\"]`"
   ]
  },
  {
   "cell_type": "code",
   "execution_count": 23,
   "metadata": {},
   "outputs": [],
   "source": [
    "\n",
    "imput_resultados = [(3, 1), (2, 2), (1, 4)]\n",
    "\n",
    "def resultados_con_nombres (imput_resultados):\n",
    "    resultado_partida= []\n",
    "    for resultado in imput_resultados:\n",
    "        if resultado[0]>resultado[1]:\n",
    "            resultado_partida.append(\"ganador\")\n",
    "        elif resultado[0] == resultado[1]:\n",
    "            resultado_partida.append(\"empate\")\n",
    "        else:\n",
    "            resultado_partida.append(\"perdedor\")\n",
    "    return resultado_partida"
   ]
  },
  {
   "cell_type": "code",
   "execution_count": 22,
   "metadata": {},
   "outputs": [
    {
     "data": {
      "text/plain": [
       "['ganador', 'empate', 'perdedor']"
      ]
     },
     "execution_count": 22,
     "metadata": {},
     "output_type": "execute_result"
    }
   ],
   "source": [
    "resultados_con_nombres(imput_resultados)"
   ]
  },
  {
   "cell_type": "markdown",
   "metadata": {},
   "source": [
    "\n",
    "## 4. `what_is_between()`\n",
    "Crea una lista con todos los números enteros entre dos valores dados, incluyendo ambos extremos.\n",
    "\n",
    "**Input:**\n",
    "- Dos números enteros, por ejemplo: `3` y `7`\n",
    "\n",
    "**Output esperado:**\n",
    "- Una lista de enteros entre los valores dados, por ejemplo: `[3, 4, 5, 6, 7]`"
   ]
  },
  {
   "cell_type": "code",
   "execution_count": 8,
   "metadata": {},
   "outputs": [],
   "source": [
    "\n",
    "def rango_num_enteros (x,y):\n",
    "    \"\"\"Crea una lista con todos los números enteros entre dos valores dados, incluyendo ambos extremos\n",
    "\n",
    "    Args:\n",
    "        x (int): limite inferior\n",
    "        y (int): limite superior\n",
    "\n",
    "    Returns:\n",
    "        list: lista con los números enteros\n",
    "    \"\"\"\n",
    "    lista_num_enteros = []\n",
    "    for i in range (x,y+1):\n",
    "        lista_num_enteros.append(i)\n",
    "    return lista_num_enteros"
   ]
  },
  {
   "cell_type": "code",
   "execution_count": 9,
   "metadata": {},
   "outputs": [
    {
     "data": {
      "text/plain": [
       "[3, 4, 5, 6, 7, 8]"
      ]
     },
     "execution_count": 9,
     "metadata": {},
     "output_type": "execute_result"
    }
   ],
   "source": [
    "rango_num_enteros(3,8)"
   ]
  },
  {
   "cell_type": "markdown",
   "metadata": {},
   "source": [
    "## 5. `es_mayus()`\n",
    "Dado un string, verifica si todas sus letras están en mayúsculas. Ignora los espacios para que no afecten el resultado.\n",
    "\n",
    "**Input:**\n",
    "- Un string, por ejemplo: `\"HOLA MUNDO\"`\n",
    "\n",
    "**Output esperado:**\n",
    "- `True` si todas las letras están en mayúsculas, `False` en caso contrario."
   ]
  },
  {
   "cell_type": "code",
   "execution_count": 11,
   "metadata": {},
   "outputs": [],
   "source": [
    "string_ejemplo = \"HOLA MUNDO\"\n",
    "\n",
    "\n",
    "def comprobacion_mayus(string_ejemplo):\n",
    "    todo_letras_mayus = True\n",
    "    for letra in string_ejemplo:\n",
    "        if todo_letras_mayus == True:\n",
    "            if letra.isupper() == True or letra.isspace() == True:\n",
    "                todo_letras_mayus = True\n",
    "            else:\n",
    "                todo_letras_mayus = False\n",
    "    return todo_letras_mayus\n",
    "\n"
   ]
  },
  {
   "cell_type": "code",
   "execution_count": 12,
   "metadata": {},
   "outputs": [
    {
     "data": {
      "text/plain": [
       "True"
      ]
     },
     "execution_count": 12,
     "metadata": {},
     "output_type": "execute_result"
    }
   ],
   "source": [
    "comprobacion_mayus(string_ejemplo)"
   ]
  },
  {
   "cell_type": "markdown",
   "metadata": {},
   "source": [
    "## 6. `cuanta_comida_en_mochila()`\n",
    "Dadas dos listas: una llamada `comida` con los alimentos que quieres comprobar y otra llamada `nevera` con los alimentos que tienes, cuenta cuántos de los alimentos de `comida` se encuentran en `nevera`.\n",
    "\n",
    "**Input:**\n",
    "- Dos listas de strings, por ejemplo: `[\"manzanas\", \"leche\", \"pan\"]` y `[\"pan\", \"queso\", \"leche\"]`\n",
    "\n",
    "**Output esperado:**\n",
    "- Un número entero que representa cuántos elementos de `comida` están en `nevera`, por ejemplo: `2`\n"
   ]
  },
  {
   "cell_type": "code",
   "execution_count": 60,
   "metadata": {},
   "outputs": [
    {
     "data": {
      "text/plain": [
       "3"
      ]
     },
     "execution_count": 60,
     "metadata": {},
     "output_type": "execute_result"
    }
   ],
   "source": [
    "mochila = [\"manzana\", \"movil\",\"reloj\",\"linterna\",\"bocadillo\",\"tortilla\",\"mechero\",\"agua\",\"tienda_campaña\"]\n",
    "\n",
    "lista_comida = [\"manzana\",\"agua\",\"zumo\",\"arroz\",\"tortilla\"]\n",
    "\n",
    "def cuanta_comida(mochila, lista_comida):\n",
    "    contador = 0\n",
    "    for i in lista_comida:\n",
    "        if i in mochila:\n",
    "            contador += 1\n",
    "    \n",
    "    return contador\n",
    "\n",
    "def que_comida(mochila, lista_comida):\n",
    "    comida_en_mochila = []\n",
    "    for comida in lista_comida:\n",
    "        if comida in mochila:\n",
    "            comida_en_mochila.append(comida)\n",
    "\n",
    "    return comida_en_mochila\n",
    "        \n",
    "    \n",
    "cuanta_comida(mochila, lista_comida)"
   ]
  },
  {
   "cell_type": "code",
   "execution_count": 61,
   "metadata": {},
   "outputs": [
    {
     "data": {
      "text/plain": [
       "['manzana', 'agua', 'tortilla']"
      ]
     },
     "execution_count": 61,
     "metadata": {},
     "output_type": "execute_result"
    }
   ],
   "source": [
    "que_comida(mochila, lista_comida)"
   ]
  },
  {
   "cell_type": "markdown",
   "metadata": {},
   "source": [
    "## 7. `añadir_apellido()`\n",
    "Dado un diccionario que representa a una persona con claves como \"nombre\" y \"edad\", añade una nueva clave llamada \"apellido\" con un valor proporcionado.\n",
    "\n",
    "**Input:**\n",
    "- Un diccionario, por ejemplo: `{\"nombre\": \"Juan\", \"edad\": 30}`\n",
    "- Un string con el apellido, por ejemplo: `\"García\"`\n",
    "\n",
    "**Output esperado:**\n",
    "- El diccionario actualizado, por ejemplo: `{\"nombre\": \"Juan\", \"edad\": 30, \"apellido\": \"García\"}`"
   ]
  },
  {
   "cell_type": "code",
   "execution_count": 69,
   "metadata": {},
   "outputs": [
    {
     "data": {
      "text/plain": [
       "{'nombre': 'Juan', 'edad': 30, 'apellido': 'Flores'}"
      ]
     },
     "execution_count": 69,
     "metadata": {},
     "output_type": "execute_result"
    }
   ],
   "source": [
    "def apellido(apellido_persona):\n",
    "    diccionario_inicial = {\"nombre\": \"Juan\", \"edad\": 30}\n",
    "    clave_añadir = {\"apellido\": apellido_persona}\n",
    "    diccionario_inicial.update(clave_añadir)\n",
    "    return(diccionario_inicial)\n",
    "\n",
    "apellido(\"Flores\")"
   ]
  },
  {
   "cell_type": "markdown",
   "metadata": {},
   "source": [
    "## 8. `corregir_nombre_socio()`\n",
    "Dado un diccionario con un nombre incorrecto (por ejemplo, letras mezcladas o en minúsculas), revisa y corrige cada letra del nombre basándote en una versión de referencia correcta. La función debería trabajar para un solo diccionario y luego reutilizarse para corregir una lista de diccionarios de nombres.\n",
    "\n",
    "**Input:**\n",
    "- Un diccionario, por ejemplo: `{\"nombre\": \"jUn\", \"edad\": 40}`\n",
    "- Un string con el nombre correcto, por ejemplo: `\"Juan\"`\n",
    "\n",
    "**Output esperado:**\n",
    "- El diccionario con el nombre corregido, por ejemplo: `{\"nombre\": \"Juan\", \"edad\": 40}`"
   ]
  },
  {
   "cell_type": "code",
   "execution_count": 31,
   "metadata": {},
   "outputs": [
    {
     "name": "stdout",
     "output_type": "stream",
     "text": [
      "{'nombre': 'Juan', 'edad': 40}\n"
     ]
    }
   ],
   "source": [
    "\n",
    "\n",
    "def diccionario_corregido (nombre_incorrecto, nombre_correcto):\n",
    "    diccionario_inicial = {\"nombre\": \"jUn\", \"edad\": 40}\n",
    "    if diccionario_inicial[\"nombre\"] == nombre_incorrecto:\n",
    "        diccionario_inicial[\"nombre\"] = nombre_correcto\n",
    "        print(diccionario_inicial)\n",
    "\n",
    "diccionario_corregido(\"jUn\", \"Juan\")"
   ]
  },
  {
   "cell_type": "markdown",
   "metadata": {},
   "source": [
    "## 9. `crear_diccionario_notas()`\n",
    "Crea un diccionario que almacene nombres de estudiantes como claves y sus notas como valores. Puedes usar `zip()` para combinar dos listas: una de nombres y otra de notas.\n",
    "\n",
    "**Input:**\n",
    "- Dos listas, una con nombres de estudiantes (por ejemplo: `[\"Ana\", \"Luis\", \"Maria\"]`) y otra con sus notas (por ejemplo: `[85, 90, 78]`).\n",
    "\n",
    "**Output esperado:**\n",
    "- Un diccionario donde cada nombre está asociado a su nota, por ejemplo: `{\"Ana\": 85, \"Luis\": 90, \"Maria\": 78}`\n"
   ]
  },
  {
   "cell_type": "code",
   "execution_count": 15,
   "metadata": {},
   "outputs": [
    {
     "name": "stdout",
     "output_type": "stream",
     "text": [
      "{'Vanesa': 100, 'Hugo': 110, 'Carla': 120}\n"
     ]
    }
   ],
   "source": [
    "lista_nombres = [\"Ana\", \"Luis\", \"Maria\"]\n",
    "lista_notas = [85, 90, 78]\n",
    "\n",
    "def diccionario_nombre_notas (lista_nombres, lista_notas):\n",
    "    diccionario_notas = dict(zip(lista_nombres,lista_notas))\n",
    "    print(diccionario_notas)\n",
    "\n",
    "diccionario_nombre_notas(['Vanesa', 'Hugo', 'Carla'], [100, 110, 120])"
   ]
  },
  {
   "cell_type": "markdown",
   "metadata": {},
   "source": [
    "## 10. `crear_diccionario_notas_tupla()`\n",
    "Similar al ejercicio anterior, pero aquí la información de los estudiantes y sus notas viene en una lista de tuplas. Cada tupla contiene el nombre y la nota de un estudiante.\n",
    "\n",
    "**Input:**\n",
    "- Una lista de tuplas, por ejemplo: `[(\"Ana\", 85), (\"Luis\", 90), (\"Maria\", 78)]`\n",
    "\n",
    "**Output esperado:**\n",
    "- Un diccionario donde cada nombre está asociado a su nota, por ejemplo: `{\"Ana\": 85, \"Luis\": 90, \"Maria\": 78}`\n"
   ]
  },
  {
   "cell_type": "code",
   "execution_count": null,
   "metadata": {},
   "outputs": [
    {
     "name": "stdout",
     "output_type": "stream",
     "text": [
      "('Ana', 'Luis', 'Maria')\n",
      "{'Ana': 85, 'Luis': 90, 'Maria': 78}\n"
     ]
    }
   ],
   "source": [
    "lista_tuplas = [(\"Ana\", 85), (\"Luis\", 90), (\"Maria\", 78)]\n",
    "nombres, notas = list(zip(*lista_tuplas))\n",
    "#print(nombres)\n",
    "#print(notas)\n",
    "diccionario_nombre_notas = dict(zip(nombres, notas))\n",
    "print(diccionario_nombre_notas)"
   ]
  },
  {
   "cell_type": "code",
   "execution_count": 24,
   "metadata": {},
   "outputs": [
    {
     "name": "stdout",
     "output_type": "stream",
     "text": [
      "{'Ana': 85, 'Luis': 90, 'Maria': 78}\n"
     ]
    }
   ],
   "source": [
    "lista_tuplas = [(\"Ana\", 85), (\"Luis\", 90), (\"Maria\", 78)]\n",
    "traspuesta = list(zip(*lista_tuplas))\n",
    "#print(traspuesta)\n",
    "diccionario_nombre_notas = dict(zip(traspuesta[0], traspuesta[1]))\n",
    "print(diccionario_nombre_notas)"
   ]
  },
  {
   "cell_type": "code",
   "execution_count": 17,
   "metadata": {},
   "outputs": [
    {
     "name": "stdout",
     "output_type": "stream",
     "text": [
      "{'Vanesa': 100, 'Hugo': 110, 'Carla': 120}\n"
     ]
    }
   ],
   "source": [
    "lista_tuplas = [(\"Ana\", 85), (\"Luis\", 90), (\"Maria\", 78)]\n",
    "\n",
    "def diccionario_nombre_notas_tupla (lista_tuplas):\n",
    "    diccionario_nombre_notas1 = dict(lista_tuplas)\n",
    "    print(diccionario_nombre_notas1)\n",
    "\n",
    "diccionario_nombre_notas_tupla([(\"Vanesa\", 100), (\"Hugo\", 110), ('Carla', 120)])"
   ]
  },
  {
   "cell_type": "markdown",
   "metadata": {},
   "source": []
  }
 ],
 "metadata": {
  "kernelspec": {
   "display_name": "Python 3",
   "language": "python",
   "name": "python3"
  },
  "language_info": {
   "codemirror_mode": {
    "name": "ipython",
    "version": 3
   },
   "file_extension": ".py",
   "mimetype": "text/x-python",
   "name": "python",
   "nbconvert_exporter": "python",
   "pygments_lexer": "ipython3",
   "version": "3.12.5"
  }
 },
 "nbformat": 4,
 "nbformat_minor": 2
}
